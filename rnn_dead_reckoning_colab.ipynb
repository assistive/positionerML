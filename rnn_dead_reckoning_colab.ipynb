{
 "cells": [
  {
   "cell_type": "markdown",
   "id": "4d39598b",
   "metadata": {},
   "source": [
    "# Filename: rnn_dead_reckoning_colab.ipynb\n",
    "\n",
    "Enhanced RNN training for IMU-based dead reckoning during GPS outages."
   ]
  },
  {
   "cell_type": "code",
   "execution_count": null,
   "id": "8c3b7834",
   "metadata": {},
   "outputs": [],
   "source": [
    "# 📦 Install dependencies (if running in Colab)\n",
    "!pip install numpy pandas scikit-learn matplotlib torch --quiet\n"
   ]
  },
  {
   "cell_type": "markdown",
   "id": "78c572b1",
   "metadata": {},
   "source": [
    "## 📁 Upload your data"
   ]
  },
  {
   "cell_type": "code",
   "execution_count": null,
   "id": "9eef1957",
   "metadata": {},
   "outputs": [],
   "source": [
    "from google.colab import files\n",
    "uploaded = files.upload()\n",
    "import pandas as pd\n",
    "\n",
    "for fn in uploaded.keys():\n",
    "    print(f\"Loaded: {fn}\")\n",
    "    df = pd.read_csv(fn)  # Assumes a .csv file\n"
   ]
  },
  {
   "cell_type": "markdown",
   "id": "b514ae96",
   "metadata": {},
   "source": [
    "## ⚙️ Preprocessing"
   ]
  },
  {
   "cell_type": "code",
   "execution_count": null,
   "id": "49302f7c",
   "metadata": {},
   "outputs": [],
   "source": [
    "import numpy as np\n",
    "from sklearn.preprocessing import StandardScaler\n",
    "\n",
    "WINDOW_SIZE = 100\n",
    "STRIDE = 50\n",
    "\n",
    "df['acc_mag'] = np.linalg.norm(df[['acc_x', 'acc_y', 'acc_z']].values, axis=1)\n",
    "df['gyro_mag'] = np.linalg.norm(df[['gyro_x', 'gyro_y', 'gyro_z']].values, axis=1)\n",
    "features = df[['acc_x', 'acc_y', 'acc_z', 'gyro_x', 'gyro_y', 'gyro_z', 'acc_mag', 'gyro_mag']].values\n",
    "targets = df[['dx', 'dy', 'dz']].values\n",
    "\n",
    "X, y = [], []\n",
    "for i in range(0, len(df) - WINDOW_SIZE, STRIDE):\n",
    "    X.append(features[i:i+WINDOW_SIZE])\n",
    "    y.append(targets[i+WINDOW_SIZE-1])\n",
    "X, y = np.array(X), np.array(y)\n",
    "\n",
    "scaler = StandardScaler()\n",
    "X = scaler.fit_transform(X.reshape(-1, X.shape[-1])).reshape(X.shape)\n",
    "\n",
    "print(\"✅ Preprocessing complete:\", X.shape, y.shape)\n"
   ]
  },
  {
   "cell_type": "markdown",
   "id": "abaeeb26",
   "metadata": {},
   "source": [
    "## 📊 Train / Validation Split"
   ]
  },
  {
   "cell_type": "code",
   "execution_count": null,
   "id": "9097ca43",
   "metadata": {},
   "outputs": [],
   "source": [
    "from sklearn.model_selection import train_test_split\n",
    "\n",
    "X_train, X_val, y_train, y_val = train_test_split(X, y, test_size=0.2, shuffle=False)\n",
    "print(f\"Train size: {X_train.shape[0]}, Val size: {X_val.shape[0]}\")\n"
   ]
  },
  {
   "cell_type": "markdown",
   "id": "d1b61e39",
   "metadata": {},
   "source": [
    "## 🧠 Model Definition"
   ]
  },
  {
   "cell_type": "code",
   "execution_count": null,
   "id": "586a1df7",
   "metadata": {},
   "outputs": [],
   "source": [
    "import torch\n",
    "import torch.nn as nn\n",
    "from torch.utils.data import TensorDataset, DataLoader\n",
    "\n",
    "class RNNModel(nn.Module):\n",
    "    def __init__(self, input_size, hidden_size, num_layers, dropout, bidirectional):\n",
    "        super().__init__()\n",
    "        self.rnn = nn.LSTM(input_size, hidden_size, num_layers,\n",
    "                           batch_first=True, dropout=dropout, bidirectional=bidirectional)\n",
    "        direction = 2 if bidirectional else 1\n",
    "        self.fc = nn.Linear(hidden_size * direction, 3)\n",
    "\n",
    "    def forward(self, x):\n",
    "        _, (h_n, _) = self.rnn(x)\n",
    "        if self.rnn.bidirectional:\n",
    "            h_out = torch.cat((h_n[-2], h_n[-1]), dim=1)\n",
    "        else:\n",
    "            h_out = h_n[-1]\n",
    "        return self.fc(h_out)\n"
   ]
  },
  {
   "cell_type": "markdown",
   "id": "b34fd3bc",
   "metadata": {},
   "source": [
    "## 🚂 Train the Model"
   ]
  },
  {
   "cell_type": "code",
   "execution_count": null,
   "id": "68e665a1",
   "metadata": {},
   "outputs": [],
   "source": [
    "BATCH_SIZE = 32\n",
    "EPOCHS = 20\n",
    "HIDDEN_SIZE = 128\n",
    "DROPOUT = 0.3\n",
    "NUM_LAYERS = 2\n",
    "USE_BIDIRECTIONAL = True\n",
    "LEARNING_RATE = 0.001\n",
    "\n",
    "device = torch.device(\"cuda\" if torch.cuda.is_available() else \"cpu\")\n",
    "\n",
    "train_loader = DataLoader(TensorDataset(torch.tensor(X_train).float(), torch.tensor(y_train).float()), batch_size=BATCH_SIZE, shuffle=True)\n",
    "val_loader = DataLoader(TensorDataset(torch.tensor(X_val).float(), torch.tensor(y_val).float()), batch_size=BATCH_SIZE)\n",
    "\n",
    "model = RNNModel(input_size=8, hidden_size=HIDDEN_SIZE, num_layers=NUM_LAYERS,\n",
    "                 dropout=DROPOUT, bidirectional=USE_BIDIRECTIONAL).to(device)\n",
    "optimizer = torch.optim.Adam(model.parameters(), lr=LEARNING_RATE)\n",
    "criterion = nn.MSELoss()\n",
    "\n",
    "def rmse(preds, targets):\n",
    "    return torch.sqrt(criterion(preds, targets))\n",
    "\n",
    "for epoch in range(EPOCHS):\n",
    "    model.train()\n",
    "    total_loss = 0\n",
    "    for xb, yb in train_loader:\n",
    "        xb, yb = xb.to(device), yb.to(device)\n",
    "        optimizer.zero_grad()\n",
    "        pred = model(xb)\n",
    "        loss = criterion(pred, yb)\n",
    "        loss.backward()\n",
    "        optimizer.step()\n",
    "        total_loss += loss.item()\n",
    "\n",
    "    model.eval()\n",
    "    val_loss = 0\n",
    "    with torch.no_grad():\n",
    "        for xb, yb in val_loader:\n",
    "            xb, yb = xb.to(device), yb.to(device)\n",
    "            pred = model(xb)\n",
    "            val_loss += rmse(pred, yb).item()\n",
    "    print(f\"Epoch {epoch+1}/{EPOCHS} - Train Loss: {total_loss/len(train_loader):.4f} - Val RMSE: {val_loss/len(val_loader):.4f}\")\n"
   ]
  },
  {
   "cell_type": "markdown",
   "id": "62b97151",
   "metadata": {},
   "source": [
    "## 📈 Plot predictions (if GPS/ground-truth is available)"
   ]
  },
  {
   "cell_type": "code",
   "execution_count": null,
   "id": "6df41039",
   "metadata": {},
   "outputs": [],
   "source": [
    "import matplotlib.pyplot as plt\n",
    "\n",
    "model.eval()\n",
    "X_sample = torch.tensor(X_val).float().to(device)\n",
    "y_true = y_val\n",
    "y_pred = model(X_sample).cpu().detach().numpy()\n",
    "\n",
    "plt.figure(figsize=(6, 6))\n",
    "plt.plot(y_true[:, 0], y_true[:, 1], label='True', alpha=0.7)\n",
    "plt.plot(y_pred[:, 0], y_pred[:, 1], label='Predicted', alpha=0.7)\n",
    "plt.legend()\n",
    "plt.title(\"Displacement Prediction (X vs Y)\")\n",
    "plt.xlabel(\"dx\")\n",
    "plt.ylabel(\"dy\")\n",
    "plt.grid(True)\n",
    "plt.axis('equal')\n",
    "plt.show()\n"
   ]
  }
 ],
 "metadata": {},
 "nbformat": 4,
 "nbformat_minor": 5
}